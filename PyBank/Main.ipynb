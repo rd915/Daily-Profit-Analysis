{
 "cells": [
  {
   "cell_type": "code",
   "execution_count": 112,
   "id": "f189ec78-488b-4472-b823-c0448ebf86b7",
   "metadata": {},
   "outputs": [
    {
     "name": "stdout",
     "output_type": "stream",
     "text": [
      "Feb-2012\n",
      "Financial Analysis\n",
      "----------------------\n",
      "Total Months: 86\n",
      "Total: $38382578\n",
      "Average change: $-2315.12\n",
      "Greatest Increase in Profits: Feb-2012 ($1926159)\n",
      "Greatest Decrease in Profits: Sep-2013 ($-2196167)\n"
     ]
    }
   ],
   "source": [
    "# Import pathlib and csv\n",
    "from pathlib import Path\n",
    "import csv\n",
    "\n",
    "# Set filepath\n",
    "csvpath = Path('./budget_data.csv')\n",
    "\n",
    "#Inialize metric variables\n",
    "monthly_count = 0\n",
    "total_profit = 0\n",
    "average_change = 0 \n",
    "daily_change = 0 \n",
    "new_list = []\n",
    "day_change = 0 \n",
    "\n",
    "\n",
    "\n",
    "# Open csv file as object\n",
    "with open(csvpath, 'r') as csvfile:\n",
    "    \n",
    "    #Pass csv file to csv.reader() function\n",
    "    csvreader = csv.reader(csvfile, delimiter=',')\n",
    "    \n",
    "    # Read first row header\n",
    "    csv_header = next(csvreader)\n",
    "    \n",
    "    # Read into list\n",
    "    for row in csvreader:     \n",
    "        new_list.append(row) \n",
    "    \n",
    "    # Sets initial values for max and min change\n",
    "    min_profit = int(new_list[0][1])\n",
    "    max_profit = int(new_list[0][1])\n",
    "   \n",
    "\n",
    "    # Loops through list for monthly count and total profit\n",
    "    for i in range(len(new_list)):\n",
    "        monthly_count += 1\n",
    "        profit = int(new_list[i][1])\n",
    "        total_profit = total_profit + profit\n",
    "        \n",
    "    # Loops through new_list and calculates daily change    \n",
    "    for i in range(1, len(new_list)):\n",
    "        daily_change = int(new_list[i][1]) - int(new_list[i-1][1])\n",
    "        day_change = daily_change + day_change\n",
    "       \n",
    "        # Determines minimum daily change and day of minimum daily change\n",
    "        if daily_change < min_profit:\n",
    "            min_profit = daily_change\n",
    "            if daily_change == min_profit:\n",
    "                min_day = new_list[i][0]\n",
    "        \n",
    "        # Determines maximum daily change and day of maximum daily change\n",
    "        elif daily_change > max_profit:\n",
    "            max_profit = daily_change\n",
    "            if daily_change == max_profit:\n",
    "                max_day = new_list[i][0]\n",
    "               \n",
    "    # Calculates average daily change\n",
    "    average_change = round(day_change / (monthly_count-1), 2)\n",
    "\n",
    "\n",
    "# Prints out analysis\n",
    "print(\"Financial Analysis\")\n",
    "print(\"----------------------\")\n",
    "print(f\"Total Months: {monthly_count}\")\n",
    "print(f\"Total: ${total_profit}\")\n",
    "print(f\"Average change: ${average_change}\")\n",
    "print(f\"Greatest Increase in Profits: {max_day} (${max_profit})\")\n",
    "print(f\"Greatest Decrease in Profits: {min_day} (${min_profit})\")\n",
    "\n"
   ]
  },
  {
   "cell_type": "code",
   "execution_count": null,
   "id": "026ea67e-161e-4c57-8707-6cbb5008b604",
   "metadata": {},
   "outputs": [],
   "source": []
  },
  {
   "cell_type": "code",
   "execution_count": null,
   "id": "0be8399e-6a1f-4e94-8943-6d7be80c7912",
   "metadata": {},
   "outputs": [],
   "source": []
  }
 ],
 "metadata": {
  "kernelspec": {
   "display_name": "Python 3",
   "language": "python",
   "name": "python3"
  },
  "language_info": {
   "codemirror_mode": {
    "name": "ipython",
    "version": 3
   },
   "file_extension": ".py",
   "mimetype": "text/x-python",
   "name": "python",
   "nbconvert_exporter": "python",
   "pygments_lexer": "ipython3",
   "version": "3.8.5"
  }
 },
 "nbformat": 4,
 "nbformat_minor": 5
}
